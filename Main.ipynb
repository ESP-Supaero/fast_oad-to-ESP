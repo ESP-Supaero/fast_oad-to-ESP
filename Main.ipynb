{
 "cells": [
  {
   "cell_type": "markdown",
   "metadata": {},
   "source": [
    "\n",
    "# Created on Tue Nov 29 17:49:45 2022\n",
    "\n",
    "# Author: Sameer Sheriff and José CAROLA DOS SANTOS"
   ]
  },
  {
   "cell_type": "markdown",
   "metadata": {},
   "source": [
    "In the location of this Jupyter file, create a folder, CSMWorkdir with the following:\n",
    "1. CSMBaseModel.csm\n",
    "2. FAST-OAD XML Input file (inputFAST.xml or CeRAS01_baseline.xml here)\n",
    "3. ESP.bat - the batch file to run ESP \n",
    "\n",
    "Additionally, ensure the ESP.bat file has been correctly filled as per the documentation. "
   ]
  },
  {
   "cell_type": "code",
   "execution_count": 14,
   "metadata": {},
   "outputs": [
    {
     "name": "stdout",
     "output_type": "stream",
     "text": [
      "Requirement already satisfied: xmltodict in d:\\anaconda\\lib\\site-packages (0.12.0)\n"
     ]
    }
   ],
   "source": [
    "!pip install xmltodict"
   ]
  },
  {
   "cell_type": "code",
   "execution_count": 15,
   "metadata": {},
   "outputs": [],
   "source": [
    "#import xml.etree.ElementTree as ET\n",
    "#import collections #used for ordered dict\n",
    "import json\n",
    "import xmltodict\n",
    "import os\n",
    "import subprocess\n",
    "import numpy\n",
    "import easygui\n",
    "import shutil\n",
    "\n",
    "Base_folder = \"Base files\"\n",
    "WORK_FOLDER_PATH = \"CSMworkdir\"\n",
    "\n",
    "# Check if the destination folder already exists\n",
    "if os.path.exists(WORK_FOLDER_PATH):\n",
    "    # If it does, delete the existing folder and its contents\n",
    "    shutil.rmtree(WORK_FOLDER_PATH)\n",
    "# Copies contents of base file to new work folder \n",
    "shutil.copytree(Base_folder, WORK_FOLDER_PATH)\n",
    "\n",
    "csm_file = os.path.join(WORK_FOLDER_PATH, \"CsmBaseModel.csm\")\n",
    "batch_file = os.path.join(WORK_FOLDER_PATH, \"ESP.bat\")"
   ]
  },
  {
   "cell_type": "code",
   "execution_count": 16,
   "metadata": {},
   "outputs": [
    {
     "name": "stdout",
     "output_type": "stream",
     "text": [
      "CSMworkdir\\ESP.bat\n"
     ]
    }
   ],
   "source": [
    "print(batch_file)"
   ]
  },
  {
   "cell_type": "markdown",
   "metadata": {},
   "source": [
    "## Copy input fast-oad file into \"workdir\" folder for jupyter to access"
   ]
  },
  {
   "cell_type": "code",
   "execution_count": 17,
   "metadata": {},
   "outputs": [
    {
     "name": "stdout",
     "output_type": "stream",
     "text": [
      "CSMworkdir\\test file.xml\n"
     ]
    }
   ],
   "source": [
    "xml_data_file = os.path.join(WORK_FOLDER_PATH, \"test file.xml\")\n",
    "print(xml_data_file)"
   ]
  },
  {
   "cell_type": "markdown",
   "metadata": {},
   "source": [
    "This section creates odered dictionary of entire XML file"
   ]
  },
  {
   "cell_type": "code",
   "execution_count": 18,
   "metadata": {},
   "outputs": [],
   "source": [
    "# Opening the xml file in read mode\n",
    "with open(xml_data_file,\"r\") as xml_obj:\n",
    "    #coverting the xml data to a Python ordered dictionary\n",
    "    data_dict_ordered = xmltodict.parse(xml_obj.read())\n",
    "    #closing the file\n",
    "    xml_obj.close()\n",
    "    \n",
    "#converts nested ordered dict to dict\n",
    "data_dict = {}\n",
    "data_dict = json.loads(json.dumps(data_dict_ordered))\n",
    "\n",
    "#filters out the necessary geometry data values\n",
    "geometry_dict = data_dict['FASTOAD_model']['data']['geometry']\n",
    "area = geometry_dict['aircraft']['wetted_area']"
   ]
  },
  {
   "cell_type": "markdown",
   "metadata": {},
   "source": [
    "Function to convert all entries in dict to variables "
   ]
  },
  {
   "cell_type": "code",
   "execution_count": 19,
   "metadata": {},
   "outputs": [],
   "source": [
    "xml_parameters = {}\n",
    "def update_globals(d, namespace):\n",
    "    for k, v in d.items():\n",
    "        if 'is_input' in k or '@units' in k: #removes unwanted variables\n",
    "            continue\n",
    "\n",
    "        if isinstance(v, dict): #this line checks if v is a dictionary\n",
    "            update_globals(v, namespace + k + '_')\n",
    "        else:\n",
    "            # This assigns each entry of the dict to a global variable \n",
    "            # This also removes the _#text from the end of the variable names\n",
    "            # globals()[(namespace + k).removesuffix('_#text')] = round(float(v),5)\n",
    "            xml_parameters[(namespace + k).removesuffix('_#text')] = round(float(v),5)"
   ]
  },
  {
   "cell_type": "markdown",
   "metadata": {},
   "source": [
    "Call the Reclusive function"
   ]
  },
  {
   "cell_type": "code",
   "execution_count": 20,
   "metadata": {},
   "outputs": [],
   "source": [
    "update_globals(geometry_dict, '')"
   ]
  },
  {
   "cell_type": "markdown",
   "metadata": {},
   "source": [
    "Open csm file and update values using input XML file"
   ]
  },
  {
   "cell_type": "code",
   "execution_count": 21,
   "metadata": {},
   "outputs": [],
   "source": [
    "data_file = []\n",
    "with open(csm_file, 'r') as data:\n",
    "    for line in data.readlines():\n",
    "        data_file.append(line)       \n",
    "    data.close()\n",
    "\n",
    "# List of CSM variable names - XML variable names\n",
    "variables = {'test':'test',\n",
    "            'fus:height':'fuselage_maximum_height',\n",
    "            'fus:width':'fuselage_maximum_width',\n",
    "            'fus:length':'fuselage_length',\n",
    "            'fus:front_length':'fuselage_front_length',\n",
    "            'fus:rear_length':'fuselage_rear_length',\n",
    "            'fus:width':'fuselage_maximum_width',\n",
    "            'fus:length':'fuselage_length',\n",
    "            'wing:mac:Xat25':'wing_MAC_at25percent_x',\n",
    "            'wing:mac:leadingX':'wing_MAC_leading_edge_x_local',\n",
    "            'wing:mac:length':'wing_MAC_length',\n",
    "            'wing:kink:leadingX':'wing_kink_leading_edge_x_local',\n",
    "            'wing:kink:y':'wing_kink_y',\n",
    "            'wing:tip:leadingX':'wing_tip_leading_edge_x_local',\n",
    "            'wing:tip:y':'wing_tip_y',\n",
    "            'vtp:mac25:Xat25':'vertical_tail_MAC_at25percent_x_local',\n",
    "            'vtp:mac25:wingMac':'vertical_tail_MAC_at25percent_x_from_wingMAC25',\n",
    "            'vtp:sweep:0':'vertical_tail_sweep_0',\n",
    "            'vtp:span':'vertical_tail_span',\n",
    "            'htp:mac25:Xat25':'horizontal_tail_MAC_at25percent_x_local',\n",
    "            'htp:mac25:wingMac':'horizontal_tail_MAC_at25percent_x_from_wingMAC25',\n",
    "            'htp:sweep:0':'horizontal_tail_sweep_0',\n",
    "            'htp:span':'horizontal_tail_span',\n",
    "            # 'wing:root:Y':,\n",
    "            # 'wing:root:Z':'wing_root_z',\n",
    "            'wing:root:c':'wing_root_chord',\n",
    "            'wing:root:t':'wing_root_thickness_ratio',\n",
    "            # 'wing:root:m':'wing_root_camber',\n",
    "            # 'wing:root:a':'wing_root_aoa',\n",
    "            # 'wing:kink:Y':,\n",
    "            'wing:kink:c':'wing_kink_chord',\n",
    "            'wing:kink:t':'wing_kink_thickness_ratio',\n",
    "            # 'wing:kink:m':'wing_kink_camber',\n",
    "            # 'wing:kink:a':'wing_kink_aoa',\n",
    "            'wing:tip:c':'wing_tip_chord',\n",
    "            'wing:tip:t':'wing_tip_thickness_ratio',\n",
    "            # 'wing:tip:m':'wing_tip_camber',\n",
    "            # 'wing:tip:a':'wing_tip_aoa',\n",
    "            'htp:root:c':'horizontal_tail_root_chord',\n",
    "            'htp:root:t':'horizontal_tail_thickness_ratio',\n",
    "            #'htp:root:m':'',\n",
    "            #'htp:root:a':'',\n",
    "            'htp:tip:c':'horizontal_tail_tip_chord',\n",
    "            'htp:tip:t':'horizontal_tail_thickness_ratio',\n",
    "            #'htp:tip:m':'',\n",
    "            #'htp:tip:a':'',\n",
    "            'vtp:root:c':'vertical_tail_root_chord',\n",
    "            'vtp:root:t':'vertical_tail_thickness_ratio',\n",
    "            #'vtp:root:m':'',\n",
    "            #'vtp:root:a':'',\n",
    "            'vtp:tip:c':'vertical_tail_tip_chord',\n",
    "            'vtp:tip:t':'vertical_tail_thickness_ratio',\n",
    "            #'vtp:tip:m':'',\n",
    "            #'vtp:tip:a':'',\n",
    "            }\n",
    "\n",
    "# Make a dict with updated values \n",
    "csm_values = {}\n",
    "for i,j in variables.items():\n",
    "    if j not in xml_parameters:\n",
    "        # print(i,j)\n",
    "        continue\n",
    "    csm_values[i] = xml_parameters[j]"
   ]
  },
  {
   "cell_type": "markdown",
   "metadata": {},
   "source": [
    "Function to create a new CSM file with updated values "
   ]
  },
  {
   "cell_type": "code",
   "execution_count": 22,
   "metadata": {},
   "outputs": [],
   "source": [
    "def updateCSM(data_file, csm_file):\n",
    "    count = 0    \n",
    "    tempString = ''\n",
    "    val = 0\n",
    "    des = 'DESPMTR'\n",
    "\n",
    "    while count<len(data_file):\n",
    "        tempString = data_file[count].split() #splits line with search word\n",
    "        for i in csm_values:\n",
    "            if des in data_file[count] and (i in data_file[count]):\n",
    "                val = tempString[tempString.index(i)+1] #finds next word of search word, i.e, the value\n",
    "                data_file[count] = data_file[count].replace(val, str(csm_values[i])) #replaces the value with chosen value\n",
    "                #If value was found and replaced, search is ended\n",
    "                break\n",
    "            else:\n",
    "                continue\n",
    "        count+=1  \n",
    "    # find old file name and add 'updated' \n",
    "    new_file = os.path.basename(csm_file)\n",
    "    new_file = ('Updated_'+ new_file)\n",
    "    new_file_path = os.path.join(WORK_FOLDER_PATH, new_file)\n",
    "    #print(new_file_path)\n",
    "    # Creating a new .csm file with changes\n",
    "    # opening file in 'w' or write mode\n",
    "    with open(new_file_path, 'w') as x:\n",
    "        for i in data_file:\n",
    "            x.write(i)\n",
    "        \n",
    "        x.close() \n",
    "    return new_file"
   ]
  },
  {
   "cell_type": "raw",
   "metadata": {},
   "source": [
    "Call function to updateCSM values "
   ]
  },
  {
   "cell_type": "code",
   "execution_count": 23,
   "metadata": {},
   "outputs": [
    {
     "name": "stdout",
     "output_type": "stream",
     "text": [
      "Updated_CsmBaseModel.csm\n"
     ]
    }
   ],
   "source": [
    "new_file = updateCSM(data_file, csm_file)\n",
    "print(new_file)"
   ]
  },
  {
   "cell_type": "markdown",
   "metadata": {},
   "source": [
    "# Editing batch file"
   ]
  },
  {
   "cell_type": "code",
   "execution_count": 24,
   "metadata": {},
   "outputs": [],
   "source": [
    "#editing ESP run batch file\n",
    "# opening file in 'r' or read mode\n",
    "batch_file_data = []\n",
    "with open(batch_file, 'r') as x:\n",
    "    for line in x.readlines():\n",
    "        batch_file_data.append(line)\n",
    "    x.close()\n",
    "batch_file_path = (os.getcwd()+ \"\\\\\" + WORK_FOLDER_PATH)\n",
    "count = 0\n",
    "while count<len(batch_file_data):\n",
    "        if 'cd /d ' in batch_file_data[count]:\n",
    "            batch_file_data[count] = 'cd /d ' + batch_file_path\n",
    "        elif 'serveCSM' in batch_file_data[count]:\n",
    "            batch_file_data[count] = '\\nserveCSM \"' + new_file + '\"'\n",
    "        # else:\n",
    "        #     data_file[len(data_file)-1] = 'cd /d ' + new_file_path\n",
    "        #     data_file.append('serveCSM \"' + new_file + '\"')\n",
    "\n",
    "        count+=1\n",
    "\n",
    "        \n",
    "with open(batch_file, 'w') as x:\n",
    "    for i in batch_file_data:\n",
    "        x.write(i)\n",
    "    x.close()    \n"
   ]
  },
  {
   "cell_type": "markdown",
   "metadata": {},
   "source": [
    "#  Run batch file to model aircraft"
   ]
  },
  {
   "cell_type": "code",
   "execution_count": 25,
   "metadata": {},
   "outputs": [],
   "source": [
    "%%capture captured_output\n",
    "!CSMworkdir\\ESP.bat > CSMworkdir\\esp_logs.txt\n"
   ]
  },
  {
   "cell_type": "markdown",
   "metadata": {},
   "source": [
    "Create a new folder 'Run _' for each new run "
   ]
  },
  {
   "cell_type": "code",
   "execution_count": 26,
   "metadata": {},
   "outputs": [],
   "source": [
    "# Specify the prefix for the folder name\n",
    "prefix = 'run'\n",
    "\n",
    "# Initialize the counter variable file\n",
    "counter_file = 'counter_file.txt'\n",
    "if os.path.exists(counter_file):\n",
    "    with open(counter_file, 'r') as f:\n",
    "        counter = int(f.read())\n",
    "else:\n",
    "    counter = 0\n",
    "\n",
    "# Increment the counter variable\n",
    "counter += 1\n",
    "\n",
    "# Create the new folder with the serialized name\n",
    "run_folder = f'{prefix} {counter}'\n",
    "shutil.copytree(WORK_FOLDER_PATH, run_folder)\n",
    "\n",
    "# Save the updated counter variable to the file\n",
    "with open(counter_file, 'w') as f:\n",
    "    f.write(str(counter))\n",
    "# Copy all the latest files to the new Run folder\n",
    "\n"
   ]
  }
 ],
 "metadata": {
  "kernelspec": {
   "display_name": "Python 3 (ipykernel)",
   "language": "python",
   "name": "python3"
  },
  "language_info": {
   "codemirror_mode": {
    "name": "ipython",
    "version": 3
   },
   "file_extension": ".py",
   "mimetype": "text/x-python",
   "name": "python",
   "nbconvert_exporter": "python",
   "pygments_lexer": "ipython3",
   "version": "3.9.7"
  },
  "varInspector": {
   "cols": {
    "lenName": 16,
    "lenType": 16,
    "lenVar": 40
   },
   "kernels_config": {
    "python": {
     "delete_cmd_postfix": "",
     "delete_cmd_prefix": "del ",
     "library": "var_list.py",
     "varRefreshCmd": "print(var_dic_list())"
    },
    "r": {
     "delete_cmd_postfix": ") ",
     "delete_cmd_prefix": "rm(",
     "library": "var_list.r",
     "varRefreshCmd": "cat(var_dic_list()) "
    }
   },
   "types_to_exclude": [
    "module",
    "function",
    "builtin_function_or_method",
    "instance",
    "_Feature"
   ],
   "window_display": false
  }
 },
 "nbformat": 4,
 "nbformat_minor": 4
}
